{
  "nbformat": 4,
  "nbformat_minor": 0,
  "metadata": {
    "colab": {
      "provenance": [],
      "authorship_tag": "ABX9TyMc1EBbDZePMjE42pSBNuMR",
      "include_colab_link": true
    },
    "kernelspec": {
      "name": "python3",
      "display_name": "Python 3"
    },
    "language_info": {
      "name": "python"
    }
  },
  "cells": [
    {
      "cell_type": "markdown",
      "metadata": {
        "id": "view-in-github",
        "colab_type": "text"
      },
      "source": [
        "<a href=\"https://colab.research.google.com/github/OSZTERYAN/ATV-PA/blob/main/untitled1.ipynb\" target=\"_parent\"><img src=\"https://colab.research.google.com/assets/colab-badge.svg\" alt=\"Open In Colab\"/></a>"
      ]
    },
    {
      "cell_type": "markdown",
      "source": [],
      "metadata": {
        "id": "_15fHsyRHYHz"
      }
    },
    {
      "cell_type": "code",
      "source": [
        "]\n",
        "def calcular_total_compra(precos):\n",
        "\n",
        "    return sum(precos)\n",
        "\n",
        "\n",
        "def main():\n",
        "\n",
        "    quantidade_itens = int(input(\"Quantos itens você comprou? \"))\n",
        "\n",
        "    precos = []\n",
        "\n",
        "    for i in range(quantidade_itens):\n",
        "        preco = float(input(f\"Digite o preço do item {i + 1}: \"))\n",
        "        precos.append(preco)\n",
        "\n",
        "    total = calcular_total_compra(precos)\n",
        "\n",
        "    print(f\"O valor total da compra é: R$ {total:.2f}\")\n",
        "\n",
        "if __name__ == \"__main__\":\n",
        "    main()\n"
      ],
      "metadata": {
        "colab": {
          "base_uri": "https://localhost:8080/"
        },
        "id": "vYmmHMGHHYii",
        "outputId": "6af59aaf-a468-4e8e-8d12-c656faa544d2"
      },
      "execution_count": null,
      "outputs": [
        {
          "output_type": "stream",
          "name": "stdout",
          "text": [
            "Quantos itens você comprou? 6\n",
            "Digite o preço do item 1: 5\n",
            "Digite o preço do item 2: 5\n",
            "Digite o preço do item 3: 5\n",
            "Digite o preço do item 4: 5\n",
            "Digite o preço do item 5: 4\n",
            "Digite o preço do item 6: 5\n",
            "O valor total da compra é: R$ 29.00\n"
          ]
        }
      ]
    },
    {
      "cell_type": "code",
      "source": [
        "\n",
        "def calcular_total_compra(precos):\n",
        "\n",
        "    return sum(precos)\n",
        "\n",
        "\n",
        "def main():\n",
        "\n",
        "    quantidade_itens = int(input(\"Quantos itens você comprou? \"))\n",
        "\n",
        "\n",
        "    precos = []\n",
        "\n",
        "\n",
        "    for i in range(quantidade_itens):\n",
        "        preco = float(input(f\"Digite o preço do item {i + 1}: \"))\n",
        "        precos.append(preco)\n",
        "\n",
        "\n",
        "    total = calcular_total_compra(precos)\n",
        "\n",
        "\n",
        "    print(f\"O valor total da compra é: R$ {total:.2f}\")\n",
        "\n",
        "\n",
        "if __name__ == \"__main__\":\n",
        "    main()\n"
      ],
      "metadata": {
        "colab": {
          "base_uri": "https://localhost:8080/"
        },
        "id": "0op_KmELKAGD",
        "outputId": "6fd7915a-e2b0-4dd1-c9dd-1a87a2750776"
      },
      "execution_count": null,
      "outputs": [
        {
          "output_type": "stream",
          "name": "stdout",
          "text": [
            "Quantos itens você comprou? 3\n",
            "Digite o preço do item 1: 45.9\n",
            "Digite o preço do item 2: 79.9\n",
            "Digite o preço do item 3: 56.0\n",
            "O valor total da compra é: R$ 181.80\n"
          ]
        }
      ]
    }
  ]
}